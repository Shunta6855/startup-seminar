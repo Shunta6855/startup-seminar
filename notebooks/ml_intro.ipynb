{
 "cells": [
  {
   "cell_type": "markdown",
   "id": "731566af",
   "metadata": {},
   "source": [
    "# Machine Learning Intro – Exercise Notebook\n",
    "\n",
    "This notebook accompanies the *Start‑up Seminar* (2025‑06‑04).  \n",
    "Work through the problems to reinforce the ideas from the lecture:\n",
    "1. End‑to‑end regression workflow with the California‑housing data\n",
    "2. End‑to‑end classification workflow with the Breast‑Cancer data\n",
    "3. End‑to‑end clustering analysis with the Iris data (incl. PCA visualization)\n",
    "\n",
    "You’ll need ~2 h if you code along diligently. Good luck!"
   ]
  },
  {
   "cell_type": "markdown",
   "id": "5cd2d138",
   "metadata": {},
   "source": [
    "## 0.  Environment setup\n",
    "Run the cell below to import common libraries. Feel free to add any others you need."
   ]
  },
  {
   "cell_type": "code",
   "execution_count": 1,
   "id": "f65b68d9",
   "metadata": {},
   "outputs": [],
   "source": [
    "# Import libraries\n",
    "import numpy as np\n",
    "import pandas as pd\n",
    "import matplotlib\n",
    "import matplotlib.pyplot as plt\n",
    "import seaborn as sns\n",
    "from sklearn import set_config\n",
    "from sklearn.datasets import fetch_california_housing, load_breast_cancer, load_iris\n",
    "from sklearn.model_selection import train_test_split\n",
    "from sklearn.pipeline import make_pipeline\n",
    "from sklearn.preprocessing import StandardScaler\n",
    "from sklearn.linear_model import LinearRegression, LogisticRegression\n",
    "from sklearn.metrics import mean_squared_error, mean_absolute_error\n",
    "from sklearn.metrics import confusion_matrix, accuracy_score, precision_score, recall_score\n",
    "from sklearn.metrics import silhouette_score\n",
    "from sklearn.tree import DecisionTreeRegressor\n",
    "from sklearn.cluster import KMeans\n",
    "from sklearn.decomposition import PCA\n",
    "from sklearn.ensemble import RandomForestClassifier\n",
    "from sklearn.model_selection import GridSearchCV\n",
    "from sklearn.model_selection import RandomizedSearchCV\n",
    "from xgboost import XGBRegressor\n",
    "\n",
    "set_config(transform_output='pandas')  # nicer display\n",
    "np.random.seed(42)"
   ]
  },
  {
   "cell_type": "markdown",
   "id": "881941ad",
   "metadata": {},
   "source": [
    "## 1.  Regression – California Housing\n",
    "\n",
    "**Dataset**  \n",
    "\n",
    "The California Housing dataset is a classic dataset from the 1990s used for regression tasks. It contains information on housing prices in California districts and is often used to predict median house value based on various features.\n",
    "\n",
    "Key Characteristics:\n",
    "\n",
    "- Target: Median house value (in $100,000s)\n",
    "\n",
    "- Features (8 total):\n",
    "\n",
    "    - `MedInc`: Median income in the district\n",
    "\n",
    "    - `HouseAge`: Median house age\n",
    "\n",
    "    - `AveRooms`: Average number of rooms per household\n",
    "\n",
    "    - `AveBedrms`: Average number of bedrooms\n",
    "\n",
    "    - `Population`: Total population\n",
    "\n",
    "    - `AveOccup`: Average number of household members\n",
    "\n",
    "    - `Latitude`: Latitude of the district\n",
    "\n",
    "    - `Longitude`: Longitude of the district\n",
    "\n",
    "**Hands-on Workout**  \n",
    "\n",
    "We will build a model to predict **median house value**.\n",
    "The section mirrors the project workflow you saw in the slides:\n",
    "- data acquisition & EDA\n",
    "- preprocessing (train/test split, scaling, …)\n",
    "- baseline model → evaluation (RMSE, MAE)\n",
    "- more powerful model → hyper‑parameter tuning"
   ]
  },
  {
   "cell_type": "markdown",
   "id": "51d52802",
   "metadata": {},
   "source": [
    "### 1.1  Load the dataset"
   ]
  },
  {
   "cell_type": "code",
   "execution_count": 2,
   "id": "87271942",
   "metadata": {},
   "outputs": [
    {
     "data": {
      "text/html": [
       "<div>\n",
       "<style scoped>\n",
       "    .dataframe tbody tr th:only-of-type {\n",
       "        vertical-align: middle;\n",
       "    }\n",
       "\n",
       "    .dataframe tbody tr th {\n",
       "        vertical-align: top;\n",
       "    }\n",
       "\n",
       "    .dataframe thead th {\n",
       "        text-align: right;\n",
       "    }\n",
       "</style>\n",
       "<table border=\"1\" class=\"dataframe\">\n",
       "  <thead>\n",
       "    <tr style=\"text-align: right;\">\n",
       "      <th></th>\n",
       "      <th>MedInc</th>\n",
       "      <th>HouseAge</th>\n",
       "      <th>AveRooms</th>\n",
       "      <th>AveBedrms</th>\n",
       "      <th>Population</th>\n",
       "      <th>AveOccup</th>\n",
       "      <th>Latitude</th>\n",
       "      <th>Longitude</th>\n",
       "      <th>MedHouseVal</th>\n",
       "    </tr>\n",
       "  </thead>\n",
       "  <tbody>\n",
       "    <tr>\n",
       "      <th>0</th>\n",
       "      <td>8.3252</td>\n",
       "      <td>41.0</td>\n",
       "      <td>6.984127</td>\n",
       "      <td>1.023810</td>\n",
       "      <td>322.0</td>\n",
       "      <td>2.555556</td>\n",
       "      <td>37.88</td>\n",
       "      <td>-122.23</td>\n",
       "      <td>4.526</td>\n",
       "    </tr>\n",
       "    <tr>\n",
       "      <th>1</th>\n",
       "      <td>8.3014</td>\n",
       "      <td>21.0</td>\n",
       "      <td>6.238137</td>\n",
       "      <td>0.971880</td>\n",
       "      <td>2401.0</td>\n",
       "      <td>2.109842</td>\n",
       "      <td>37.86</td>\n",
       "      <td>-122.22</td>\n",
       "      <td>3.585</td>\n",
       "    </tr>\n",
       "    <tr>\n",
       "      <th>2</th>\n",
       "      <td>7.2574</td>\n",
       "      <td>52.0</td>\n",
       "      <td>8.288136</td>\n",
       "      <td>1.073446</td>\n",
       "      <td>496.0</td>\n",
       "      <td>2.802260</td>\n",
       "      <td>37.85</td>\n",
       "      <td>-122.24</td>\n",
       "      <td>3.521</td>\n",
       "    </tr>\n",
       "    <tr>\n",
       "      <th>3</th>\n",
       "      <td>5.6431</td>\n",
       "      <td>52.0</td>\n",
       "      <td>5.817352</td>\n",
       "      <td>1.073059</td>\n",
       "      <td>558.0</td>\n",
       "      <td>2.547945</td>\n",
       "      <td>37.85</td>\n",
       "      <td>-122.25</td>\n",
       "      <td>3.413</td>\n",
       "    </tr>\n",
       "    <tr>\n",
       "      <th>4</th>\n",
       "      <td>3.8462</td>\n",
       "      <td>52.0</td>\n",
       "      <td>6.281853</td>\n",
       "      <td>1.081081</td>\n",
       "      <td>565.0</td>\n",
       "      <td>2.181467</td>\n",
       "      <td>37.85</td>\n",
       "      <td>-122.25</td>\n",
       "      <td>3.422</td>\n",
       "    </tr>\n",
       "  </tbody>\n",
       "</table>\n",
       "</div>"
      ],
      "text/plain": [
       "   MedInc  HouseAge  AveRooms  AveBedrms  Population  AveOccup  Latitude  \\\n",
       "0  8.3252      41.0  6.984127   1.023810       322.0  2.555556     37.88   \n",
       "1  8.3014      21.0  6.238137   0.971880      2401.0  2.109842     37.86   \n",
       "2  7.2574      52.0  8.288136   1.073446       496.0  2.802260     37.85   \n",
       "3  5.6431      52.0  5.817352   1.073059       558.0  2.547945     37.85   \n",
       "4  3.8462      52.0  6.281853   1.081081       565.0  2.181467     37.85   \n",
       "\n",
       "   Longitude  MedHouseVal  \n",
       "0    -122.23        4.526  \n",
       "1    -122.22        3.585  \n",
       "2    -122.24        3.521  \n",
       "3    -122.25        3.413  \n",
       "4    -122.25        3.422  "
      ]
     },
     "metadata": {},
     "output_type": "display_data"
    }
   ],
   "source": [
    "# ----- TODO: load the California‑housing dataset into a DataFrame `df_reg` ----- #\n",
    "\n",
    "# Load the Dataset\n",
    "data = fetch_california_housing(as_frame=True)\n",
    "df_reg = data.frame\n",
    "display(df_reg.head())"
   ]
  },
  {
   "cell_type": "markdown",
   "id": "c6df0636",
   "metadata": {},
   "source": [
    "### 1.2  Train/test split\n",
    "- Create `X_train`, `X_test`, `y_train`, `y_test` using an 80/20 split.\n",
    "- Create `df_train` by concatenating `X_train` and `y_train`"
   ]
  },
  {
   "cell_type": "code",
   "execution_count": 1,
   "id": "1edf5669",
   "metadata": {},
   "outputs": [],
   "source": [
    "# ----- TODO: split the data ----- #"
   ]
  },
  {
   "cell_type": "code",
   "execution_count": null,
   "id": "9af09809",
   "metadata": {},
   "outputs": [],
   "source": [
    "# ----- TODO: create df_train ----- #"
   ]
  },
  {
   "cell_type": "markdown",
   "id": "10a76089",
   "metadata": {},
   "source": [
    "### 1.3  Exploratory Data Analysis (EDA)\n",
    "- Show basic `.info()` / `.describe()`\n",
    "- Visualise one numerical feature distribution (e.g., histogram)\n",
    "- Plot a pairwise scatter matrix or correlation heat‑map"
   ]
  },
  {
   "cell_type": "code",
   "execution_count": null,
   "id": "26789b44",
   "metadata": {},
   "outputs": [],
   "source": [
    "# ----- TODO: your EDA code here ----- #"
   ]
  },
  {
   "cell_type": "markdown",
   "id": "9a4a74da",
   "metadata": {},
   "source": [
    "### 1.4  Pre‑processing pipeline\n",
    "Build a `scikit‑learn` pipeline that (optionally) scales features with `StandardScaler` and fits a **LinearRegression** model as a baseline."
   ]
  },
  {
   "cell_type": "code",
   "execution_count": null,
   "id": "7c25d5d0",
   "metadata": {},
   "outputs": [],
   "source": [
    "# ----- TODO: build and fit the baseline pipeline ----- #"
   ]
  },
  {
   "cell_type": "markdown",
   "id": "94fc97fd",
   "metadata": {},
   "source": [
    "### 1.5  Evaluate the baseline\n",
    "Compute **RMSE** and **MAE** on the test set."
   ]
  },
  {
   "cell_type": "code",
   "execution_count": null,
   "id": "95986940",
   "metadata": {},
   "outputs": [],
   "source": [
    "# ----- TODO: evaluate baseline ----- #"
   ]
  },
  {
   "cell_type": "markdown",
   "id": "cee54c48",
   "metadata": {},
   "source": [
    "### 1.6  Decision‑Tree Regressor\n",
    "- Fit a `DecisionTreeRegressor`\n",
    "- Evaluate the metrics again\n",
    "- Compare to baseline"
   ]
  },
  {
   "cell_type": "code",
   "execution_count": null,
   "id": "75d1b05e",
   "metadata": {},
   "outputs": [],
   "source": [
    "# ----- TODO: Decision‑Tree experiment ----- #"
   ]
  },
  {
   "cell_type": "code",
   "execution_count": null,
   "id": "09b3a999",
   "metadata": {},
   "outputs": [],
   "source": [
    "# ----- TODO: XGBoost Regressor experiment ----- #"
   ]
  },
  {
   "cell_type": "markdown",
   "id": "7b3bf11f",
   "metadata": {},
   "source": [
    "### 1.7  Hyper‑parameter tuning (Grid Search)\n",
    "Tune `max_depth` and `min_samples_leaf` using **`GridSearchCV`** with 5‑fold CV."
   ]
  },
  {
   "cell_type": "code",
   "execution_count": 2,
   "id": "4ac4909f",
   "metadata": {},
   "outputs": [],
   "source": [
    "# ----- TODO: Grid search for Decision-Tree Regressor ----- #"
   ]
  },
  {
   "cell_type": "markdown",
   "id": "262c5589",
   "metadata": {},
   "source": [
    "## 2.  Classification – Breast‑Cancer\n",
    "\n",
    "**Dataset**  \n",
    "\n",
    "Key Characteristics:\n",
    "\n",
    "- Target\n",
    "\n",
    "    - 0 = Malignant (cancerous)\n",
    "\n",
    "    - 1 = Benign (non-cancerous)\n",
    "\n",
    "- Features (30 total):\n",
    "\n",
    "    All features are numeric, derived from digitized images of breast fine needle aspirates (FNAs). Each feature describes characteristics of the cell nuclei:\n",
    "\n",
    "    There are 10 basic measurements (e.g., radius, texture, perimeter, area, smoothness, compactness, concavity, concave points, symmetry, fractal dimension), and for each, 3 statistics are recorded:\n",
    "\n",
    "    - .mean – average value\n",
    "\n",
    "    - .se – standard error\n",
    "\n",
    "    - .worst – mean of the three worst (largest) values\n",
    "\n",
    "    Examples:\n",
    "\n",
    "        radius_mean, texture_se, area_worst, etc.\n",
    "\n",
    "\n",
    "**Hands-on Workout** \n",
    "\n",
    "Repeat a similar workflow for a binary classification problem."
   ]
  },
  {
   "cell_type": "markdown",
   "id": "069d5d1b",
   "metadata": {},
   "source": [
    "### 2.1  Load the dataset"
   ]
  },
  {
   "cell_type": "code",
   "execution_count": 3,
   "id": "6ae36cb6",
   "metadata": {},
   "outputs": [],
   "source": [
    "# ----- TODO: load breast‑cancer dataset into DataFrame `df_clf` ----- #\n"
   ]
  },
  {
   "cell_type": "markdown",
   "id": "70bae29e",
   "metadata": {},
   "source": [
    "### 2.2  Train/test split\n",
    "- Create `X_train`, `X_test`, `y_train`, `y_test` using an 80/20 split.\n",
    "- Create `df_train` by concatenating `X_train` and `y_train`"
   ]
  },
  {
   "cell_type": "code",
   "execution_count": null,
   "id": "ac1cf4e6",
   "metadata": {},
   "outputs": [],
   "source": [
    "# ----- TODO: split the data ----- #"
   ]
  },
  {
   "cell_type": "code",
   "execution_count": null,
   "id": "62e3f073",
   "metadata": {},
   "outputs": [],
   "source": [
    "# ----- TODO: create df_train ----- #"
   ]
  },
  {
   "cell_type": "markdown",
   "id": "c5539a1c",
   "metadata": {},
   "source": [
    "### 2.3  EDA for classification data\n",
    "\n",
    "- Visualize target class distribution\n",
    "- Plot a correlation heat-map"
   ]
  },
  {
   "cell_type": "code",
   "execution_count": null,
   "id": "b9c2f1bf",
   "metadata": {},
   "outputs": [],
   "source": [
    "# ----- TODO: your EDA code ----- #"
   ]
  },
  {
   "cell_type": "markdown",
   "id": "d933519b",
   "metadata": {},
   "source": [
    "### 2.4  Pre‑processing & split\n",
    "Use `StandardScaler` and **LogisticRegression** as a baseline."
   ]
  },
  {
   "cell_type": "code",
   "execution_count": null,
   "id": "ce3c56f0",
   "metadata": {},
   "outputs": [],
   "source": [
    "# ----- TODO: pipeline with logistic regression ----- #"
   ]
  },
  {
   "cell_type": "markdown",
   "id": "e0429527",
   "metadata": {},
   "source": [
    "### 2.5  Evaluate baseline\n",
    "Produce **confusion‑matrix**, **accuracy**, and **precision/recall** scores."
   ]
  },
  {
   "cell_type": "code",
   "execution_count": null,
   "id": "81aa94f7",
   "metadata": {},
   "outputs": [],
   "source": [
    "# ----- TODO: evaluation code ----- #"
   ]
  },
  {
   "cell_type": "markdown",
   "id": "77db4e4a",
   "metadata": {},
   "source": [
    "### 2.6  Random‑Forest Classifier experiment"
   ]
  },
  {
   "cell_type": "code",
   "execution_count": null,
   "id": "5d512b55",
   "metadata": {},
   "outputs": [],
   "source": [
    "# ----- TODO: RandomForest pipeline & evaluation ----- #"
   ]
  },
  {
   "cell_type": "markdown",
   "id": "55610191",
   "metadata": {},
   "source": [
    "### 2.7  Hyper‑parameter tuning (Randomized Search)\n",
    "Tune `n_estimators`, `max_depth`, and `max_features`."
   ]
  },
  {
   "cell_type": "code",
   "execution_count": null,
   "id": "312b219a",
   "metadata": {},
   "outputs": [],
   "source": [
    "# ----- TODO: RandomizedSearchCV for RandomForest ----- #"
   ]
  },
  {
   "cell_type": "markdown",
   "id": "5744f383",
   "metadata": {},
   "source": [
    "## 3. Clustering & PCA Visualization - Iris\n",
    "In this block, we will apply k-means clustering to a real dataset, decide the number of clusters, and visualize the results using PCA."
   ]
  },
  {
   "cell_type": "markdown",
   "id": "0b273a49",
   "metadata": {},
   "source": [
    "### 3.1 Load the dataset"
   ]
  },
  {
   "cell_type": "code",
   "execution_count": null,
   "id": "28b8268f",
   "metadata": {},
   "outputs": [],
   "source": [
    "# ----- TODO: load the iris dataset into a DataFrame `df_iris` ----- #"
   ]
  },
  {
   "cell_type": "markdown",
   "id": "c1ba2726",
   "metadata": {},
   "source": [
    "### 3.2 Preprocessing & Scaling\n",
    "- Seperate features and target\n",
    "- Scale the feature values with StandardScaler"
   ]
  },
  {
   "cell_type": "code",
   "execution_count": null,
   "id": "e8e21ab2",
   "metadata": {},
   "outputs": [],
   "source": [
    "# ----- TODO: preprocess the data ----- #"
   ]
  },
  {
   "cell_type": "markdown",
   "id": "e29845aa",
   "metadata": {},
   "source": [
    "### 3.3 Silhouette Score - Evaluating cluster quality\n",
    "- Compute the silhouette score for k = 2 to 10\n",
    "- Visualize scores and determine the best k"
   ]
  },
  {
   "cell_type": "code",
   "execution_count": null,
   "id": "b211b05a",
   "metadata": {},
   "outputs": [],
   "source": [
    "# ----- TODO: silhouette score ----- #"
   ]
  },
  {
   "cell_type": "markdown",
   "id": "19ce8507",
   "metadata": {},
   "source": [
    "### 3.4 Train k-means and visualize clusters with PCA\n",
    "- Train k-means with the selected k\n",
    "- Use PCA to project data to 2D\n",
    "- Plot the clustered points "
   ]
  },
  {
   "cell_type": "code",
   "execution_count": null,
   "id": "75c61189",
   "metadata": {},
   "outputs": [],
   "source": [
    "# ----- TODO: train k-means and visualize clusters with PCA ----- #"
   ]
  },
  {
   "cell_type": "markdown",
   "id": "a21de4e7",
   "metadata": {},
   "source": [
    "### 3.5 Compare with ground-truth labels\n",
    "- Create a crosstab of predicted clusters vs. true species\n",
    "- Visualize the correspondence using a heatmap"
   ]
  },
  {
   "cell_type": "code",
   "execution_count": null,
   "id": "09a69968",
   "metadata": {},
   "outputs": [],
   "source": [
    "# ----- TODO: compare with ground-truth labels ----- #"
   ]
  },
  {
   "cell_type": "markdown",
   "id": "21ec8b63",
   "metadata": {},
   "source": [
    "---\n",
    "\n",
    "### 🎉 Congratulations — you’ve completed the exercises!\n",
    "If you still have time:\n",
    "- experiment with another dataset of your choice\n",
    "- swap models (e.g., try `GradientBoostingRegressor` / `LGBMClassifier`)\n",
    "- create feature‑importance plots and interpret them\n",
    "\n",
    "*Happy coding!*"
   ]
  }
 ],
 "metadata": {
  "kernelspec": {
   "display_name": ".venv",
   "language": "python",
   "name": "python3"
  },
  "language_info": {
   "codemirror_mode": {
    "name": "ipython",
    "version": 3
   },
   "file_extension": ".py",
   "mimetype": "text/x-python",
   "name": "python",
   "nbconvert_exporter": "python",
   "pygments_lexer": "ipython3",
   "version": "3.12.2"
  }
 },
 "nbformat": 4,
 "nbformat_minor": 5
}
